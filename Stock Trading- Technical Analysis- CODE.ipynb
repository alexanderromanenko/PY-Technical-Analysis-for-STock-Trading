{
 "cells": [
  {
   "cell_type": "code",
   "execution_count": 11,
   "metadata": {
    "collapsed": true
   },
   "outputs": [],
   "source": [
    "def movingAverage(prices, n):\n",
    "    \"\"\" \n",
    "    Input: prices is a list of prices (ordered in time), n is an integer\n",
    "    \n",
    "    Calculates n-day moving average for prices\n",
    "\n",
    "    Output: returns a list movingAverage with None for the first n-1 values in prices \n",
    "    and the appropriate moving average for the rest\n",
    "    \"\"\"\n",
    "    \n",
    "\n",
    "    movingAverage = []                      #starting a new list\n",
    "    m=1                                     #setting up a counter variable to catch 'None' values by comparing them against n variable and for calculating averages   \n",
    "    for price in prices:                    #initiating a loop to go through all elements of the 'prices' list\n",
    "        if m<n:     a= None                 \n",
    "        else:       a=sum(prices[m-n:m])/n  #calculating average of last n values for every element in 'prices' list\n",
    "        movingAverage.append(a)             #adding the calculated average to the new list\n",
    "        m+=1                                #running the counter\n",
    "    return (movingAverage)                  #returning list of averages   "
   ]
  },
  {
   "cell_type": "code",
   "execution_count": 12,
   "metadata": {
    "collapsed": false
   },
   "outputs": [
    {
     "name": "stdout",
     "output_type": "stream",
     "text": [
      "[None, None, 3.0, 4.0, 5.666666666666667, 6.0, 5.666666666666667, 4.0, 3.0, 2.0]\n",
      "[None, None, 3.0, 4.0, 5.666666666666667, 6.0, 5.666666666666667, 4.0, 3.0, 2.0]\n",
      "[None, 2.5, 3.5, 4.5, 6.5, 6.5, 4.5, 3.5, 2.5, 1.5]\n",
      "[None, 2.5, 3.5, 4.5, 6.5, 6.5, 4.5, 3.5, 2.5, 1.5]\n"
     ]
    }
   ],
   "source": [
    "def testMovingAverage():\n",
    "    \"\"\"\n",
    "    test your implementation of movingAverage\n",
    "    \"\"\"    \n",
    "    prices = [2,3,4,5,8,5,4,3,2,1]\n",
    "    n = 3\n",
    "    ma3 = movingAverage(prices,n)\n",
    "    print(ma3)\n",
    "    print([None, None, 3.0, 4.0, 5.666666666666667, 6.0, 5.666666666666667, 4.0, 3.0, 2.0])\n",
    "    n = 2\n",
    "    ma2 = movingAverage(prices,n)\n",
    "    print(ma2)\n",
    "    print([None, 2.5, 3.5, 4.5, 6.5, 6.5, 4.5, 3.5, 2.5, 1.5])\n",
    "\n",
    "testMovingAverage()"
   ]
  },
  {
   "cell_type": "code",
   "execution_count": 13,
   "metadata": {
    "collapsed": true
   },
   "outputs": [],
   "source": [
    "def crossOvers(prices1,prices2):\n",
    "    \"\"\" \n",
    "    Identify cross-over indices for two equal-length lists of prices (here: moving averages)\n",
    "    \n",
    "    Input: two lists of prices (ordered by time)\n",
    "    Output: returns list of crossover points: \"crossovers\"\n",
    "\n",
    "    Each item in \"crossovers\" is a list [timeIndex,higherIndex], where:\n",
    "    \n",
    "    -timeIndex is the crossover time index\n",
    "    \n",
    "    -higherIndex indicates which price becomes higher at timeIndex: \n",
    "    either 1 for first list or 2 for second list\n",
    "    \"\"\"\n",
    "  \n",
    "    crossovers = []                  #initiating a new list   \n",
    "    for i in range(1,len(prices1)):  #prices1 and prices2 have equal number of rows. so either could be used here. initiating a range function to go through all elements of the prices1 and prices2 lists\n",
    "            if prices1[i-1]!=None and prices2[i-1]!=None:    #check for 'None' values, which should be skipped            \n",
    "                if   (prices1[i]>prices2[i] and prices1[i-1]<prices2[i-1]) : crossovers.append([i,1])   #if conditional outcome for i elements different to outcome for i-1 elements (crossover of averages occured) --> add to the list \n",
    "                elif (prices1[i]<prices2[i] and prices1[i-1]>prices2[i-1]) : crossovers.append([i,2])   #same as above  \n",
    "    return (crossovers)              #returning the list of crossovers of moving averages"
   ]
  },
  {
   "cell_type": "code",
   "execution_count": 14,
   "metadata": {
    "collapsed": false
   },
   "outputs": [
    {
     "name": "stdout",
     "output_type": "stream",
     "text": [
      "[[5, 2], [8, 1]]\n",
      "[[5, 2], [8, 1]]\n"
     ]
    }
   ],
   "source": [
    "def testCrossOvers():\n",
    "    \"\"\"\n",
    "    test your implementation of crossOvers\n",
    "    \"\"\"\n",
    "    prices = [2,3,4,5,4,3,2,1,6,1]\n",
    "    list1 = movingAverage(prices,2)\n",
    "    list2 = movingAverage(prices,3)\n",
    "    list1 = [None, 2.5, 3.5, 4.5, 4.5, 3.5, 2.5, 1.5, 3.5, 3.5]\n",
    "    list2 = [None, None, 3.0, 4.0, 4.333333333333333, 4.0, 3.0, 2.0, 3.0, 2.6666666666666665]\n",
    "    print(crossOvers(list1,list2))\n",
    "    print([[5, 2], [8, 1]]) # correct result\n",
    "    \n",
    "testCrossOvers()"
   ]
  },
  {
   "cell_type": "code",
   "execution_count": 15,
   "metadata": {
    "collapsed": true
   },
   "outputs": [],
   "source": [
    "def makeTrades(money, prices, crossovers):\n",
    "    \"\"\"\n",
    "    Given an initial cash position, use a list of crossovers to make trades\n",
    "    \n",
    "    Input: money - initial cash position; prices - list of prices (ordered by time); crossovers - list of crossovers     \n",
    "    Output: currentValue - list of value of position (either in stock value or cash) at each time index    \n",
    "    \n",
    "    Assume each item crossovers[i] is a list [timeIndex,buyIndex]    \n",
    "    \n",
    "    Assume that buyIndex = 1 means that short-term MA becomes higher than long term at this timeIndex\n",
    "    buyIndex = 2 means that long-term MA becomes higher than short term.    \n",
    "\n",
    "    You would like to buy at any timeIndex where crossover's buyIndex indicates 1, sell at 2. \n",
    "    \n",
    "    That is, you want to buy whenever SHORT-TERM MA becomes higher than LONG-term (AND you have a cash position),\n",
    "    and sell when the opposite cross-over occurs (AND you have a stock position).\n",
    "    \n",
    "    Use all money/stock available to buy/sell at the current price: you will always hold either stocks or cash, but never both.\n",
    "\n",
    "    Assume fractional stock quantities, no transaction fees.      \n",
    "    \"\"\"\n",
    "\n",
    "    makeTrades=[]                                                   #initiating a new list\n",
    "    stock=0; p=0                                                    #stock- number of shares you hold; p- a counter variable    \n",
    "    for TI,BI in crossovers:                                        #loop through TimeIndex and BuyIndex in the crossovers list\n",
    "#looping through all dates, where date (timeperiod) is in the crossovers list (i.e. = TI)- execute a transaction (BI=1: Buy; BI=2: Sell)\n",
    "#if the timeperiod is not in the crossovers list- workout the balance (pv) and add it to the list of balances\n",
    "        for timeperiod in range(p,len(prices)):                     #range set from p to ensure the loop does not go through the already 'explored' timeperiods\n",
    "            p+=1            \n",
    "            if timeperiod== TI: \n",
    "                if BI ==1:  \n",
    "                    stock= money/prices[timeperiod]\n",
    "                    money=0                                         #when bought shares- set money/cash to 0    \n",
    "                    balance=stock*prices[timeperiod]                #balance is a pv of shares or money/cash\n",
    "                  \n",
    "                elif BI==2 and stock!=0:                            #only execute when you hold shares- you cannot sell shares you do not hold!\n",
    "                    money= stock*prices[timeperiod]\n",
    "                    balance=money                    \n",
    "                    stock=0                                         #when sold shares- set shares value to 0\n",
    "               \n",
    "                makeTrades.append(balance)\n",
    "                break                                               #break the internal loop to go to the next outer loop value \n",
    "\n",
    "            else: \n",
    "                if stock !=0: balance= stock* prices[timeperiod]    #when you hold shares             \n",
    "                else: balance=money                                 #else balance is the same as you current money/cash\n",
    "                makeTrades.append(balance)                          #add balance (pv) to the list\n",
    "    return makeTrades                                               #return the list of present values for every timeperiod\n"
   ]
  },
  {
   "cell_type": "code",
   "execution_count": 16,
   "metadata": {
    "collapsed": false
   },
   "outputs": [
    {
     "name": "stdout",
     "output_type": "stream",
     "text": [
      "[1000, 1000, 1000, 1000, 1000, 1000, 1000, 1000, 1000.0, 166.66666666666666, 833.3333333333333, 833.3333333333333, 952.3809523809523, 1190.4761904761904, 833.3333333333333, 1071.4285714285713]\n",
      "[1000, 1000, 1000, 1000, 1000, 1000, 1000, 1000, 1000.0, 166.66666666666666, 833.3333333333333, 833.3333333333333, 952.3809523809523, 1190.4761904761904, 833.3333333333333, 1071.4285714285713]\n"
     ]
    }
   ],
   "source": [
    "def testTrades():\n",
    "    \"\"\"\n",
    "    test your implementation of makeTrades\n",
    "    \"\"\"\n",
    "    prices = [2,3,4,5,4,3,2,1,6,1,5,7,8,10,7,9]\n",
    "    list1 = movingAverage(prices,2) # this is how the crossovers were generated from the prices...\n",
    "    list2 = movingAverage(prices,3)\n",
    "    cos = crossOvers(list1,list2)\n",
    "    cos = [[5, 2], [8, 1], [10, 2], [11, 1], [15, 2]]\n",
    "    startingMoney = 1000\n",
    "    print(makeTrades(startingMoney, prices, cos))\n",
    "    print([1000, 1000, 1000, 1000, 1000, 1000, 1000, 1000, 1000.0, 166.66666666666666, 833.3333333333333, 833.3333333333333, 952.3809523809523, 1190.4761904761904, 833.3333333333333, 1071.4285714285713])\n",
    "\n",
    "\n",
    "testTrades()"
   ]
  },
  {
   "cell_type": "code",
   "execution_count": 17,
   "metadata": {
    "collapsed": true
   },
   "outputs": [],
   "source": [
    "##### \n",
    "# Test with actual stock data using pandas datareader\n",
    "\n",
    "import pandas_datareader.data as web\n",
    "from datetime import datetime # Perhaps useful for HW1...\n",
    "\n",
    "\n",
    "def getStock(symbol, start, end):\n",
    "    \"\"\"\n",
    "    Downloads stock price data from Yahoo Finance\n",
    "    Returns a pandas dataframe.\n",
    "    \"\"\"\n",
    "    df =  web.DataReader(symbol, 'yahoo', start, end)\n",
    "    return df\n",
    "\n",
    "def getClose(df):\n",
    "    \"\"\"\n",
    "    Returns stock price dataframe's adjusted closing price as a list\n",
    "    \"\"\"\n",
    "    L = df['Adj Close'].values.tolist()\n",
    "    return L"
   ]
  },
  {
   "cell_type": "code",
   "execution_count": 18,
   "metadata": {
    "collapsed": false
   },
   "outputs": [
    {
     "name": "stdout",
     "output_type": "stream",
     "text": [
      "Buy and hold: 34622.20827552346\n",
      "Crossover MA: 33637.27027111489\n"
     ]
    }
   ],
   "source": [
    "def MAvsBaH(n1,n2,stockCode,start,finish,startingMoney):\n",
    "    \"\"\"\n",
    "    perform comparison between moving average crossover strategy and buy and hold\n",
    "    Assume n1 < n2\n",
    "    \"\"\"\n",
    "    \n",
    "    # Get prices    \n",
    "    stock = getStock(stockCode,start, finish)\n",
    "    closingPrices = getClose(stock)\n",
    "    \n",
    "    # Moving averages\n",
    "    ma1 = movingAverage(closingPrices,n1)\n",
    "    ma2 = movingAverage(closingPrices,n2)  \n",
    "    \n",
    "    # Crossovers\n",
    "    cos = crossOvers(ma1,ma2)\n",
    "    \n",
    "    # Make trades using crossover strategy, get list of values\n",
    "    MAvalues = makeTrades(startingMoney,closingPrices,cos)    \n",
    "\n",
    "    # Get buy and hold strategy values\n",
    "    firstValue = closingPrices[n2-1] # start trading at same point in time\n",
    "    BHvalues = [p/firstValue*startingMoney for p in closingPrices] # List comprehension for convenient looping\n",
    "    \n",
    "    print(\"Buy and hold: \" + str(BHvalues[-1]))\n",
    "    print(\"Crossover MA: \" + str(MAvalues[-1]))\n",
    "    \n",
    "    return [BHvalues, MAvalues]\n",
    "\n",
    "\n",
    "\n",
    "# Try with Nasdaq index\n",
    "# Let's assume you can trade it like a stock at a price equal to the index (eg through an index fund)    \n",
    "nasdaqCode = '^IXIC' \n",
    "n1 = 20\n",
    "n2 = 50\n",
    "start = datetime(1980,1,1)\n",
    "finish = datetime(2015,12,31)\n",
    "startingMoney = 1000\n",
    "values = MAvsBaH(n1,n2,nasdaqCode,start,finish,startingMoney)"
   ]
  },
  {
   "cell_type": "code",
   "execution_count": 23,
   "metadata": {
    "collapsed": false
   },
   "outputs": [
    {
     "data": {
      "text/plain": [
       "[<matplotlib.lines.Line2D at 0x1a545512f98>]"
      ]
     },
     "execution_count": 23,
     "metadata": {},
     "output_type": "execute_result"
    },
    {
     "data": {
      "image/png": "[encoded data removed]",
      "text/plain": [
       "<matplotlib.figure.Figure at 0x1a545bcf320>"
      ]
     },
     "metadata": {},
     "output_type": "display_data"
    }
   ],
   "source": [
    "# Plotting\n",
    "%matplotlib inline\n",
    "import matplotlib.pyplot as plt\n",
    "plt.plot(values[0])\n",
    "plt.plot(values[1])"
   ]
  }
 ],
 "metadata": {
  "kernelspec": {
   "display_name": "Python [conda root]",
   "language": "python",
   "name": "conda-root-py"
  },
  "language_info": {
   "codemirror_mode": {
    "name": "ipython",
    "version": 3
   },
   "file_extension": ".py",
   "mimetype": "text/x-python",
   "name": "python",
   "nbconvert_exporter": "python",
   "pygments_lexer": "ipython3",
   "version": "3.5.2"
  }
 },
 "nbformat": 4,
 "nbformat_minor": 1
}
